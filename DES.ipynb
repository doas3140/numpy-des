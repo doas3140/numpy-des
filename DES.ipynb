{
 "cells": [
  {
   "cell_type": "markdown",
   "metadata": {},
   "source": [
    "# DES and 3DES implementation with numpy\n",
    "* Because of implementation, it is ~1000x slower then normal implementation, but is quite easy to read. Good for educational purposes."
   ]
  },
  {
   "cell_type": "code",
   "execution_count": null,
   "metadata": {},
   "outputs": [],
   "source": [
    "import numpy as np"
   ]
  },
  {
   "cell_type": "markdown",
   "metadata": {},
   "source": [
    "# Encryption"
   ]
  },
  {
   "cell_type": "markdown",
   "metadata": {},
   "source": [
    "* Uses same key for encryption and decryption\n",
    "* Uses 16 rounds which all perform identical operation\n",
    "* Different subkey in each round is derived from main key\n",
    "* In each round $x$ is split up into 32-bit halves $L$ and $R$\n",
    "<img src=\"img/encryption.png\" alt=\"Drawing\" style=\"width: 600px\"/>"
   ]
  },
  {
   "cell_type": "code",
   "execution_count": null,
   "metadata": {},
   "outputs": [],
   "source": [
    "def encrypt(x,key):\n",
    "    # initial permutation\n",
    "    x = IP(x)\n",
    "    # 16 rounds of encryption\n",
    "    k = derive_keys(key)\n",
    "    L,R = np.split(x,2)\n",
    "    for i in range(16):\n",
    "        L,R = Round(L,R,k[i])\n",
    "    x = np.concatenate((R,L))\n",
    "    # final permutation\n",
    "    y = FP(x)\n",
    "    return y"
   ]
  },
  {
   "cell_type": "markdown",
   "metadata": {},
   "source": [
    "# Initial Permutation IP"
   ]
  },
  {
   "cell_type": "markdown",
   "metadata": {},
   "source": [
    "* Bitwise permutation\n",
    "<img src=\"img/IP.png\" alt=\"Drawing\" style=\"width: 400px\"/>"
   ]
  },
  {
   "cell_type": "code",
   "execution_count": null,
   "metadata": {},
   "outputs": [],
   "source": [
    "IP_table = np.array([\n",
    "    58, 50, 42, 34, 26, 18, 10, 2,\n",
    "    60, 52, 44, 36, 28, 20, 12, 4,\n",
    "    62, 54, 46, 38, 30, 22, 14, 6,\n",
    "    64, 56, 48, 40, 32, 24, 16, 8,\n",
    "    57, 49, 41, 33, 25, 17,  9, 1,\n",
    "    59, 51, 43, 35, 27, 19, 11, 3,\n",
    "    61, 53, 45, 37, 29, 21, 13, 5,\n",
    "    63, 55, 47, 39, 31, 23, 15, 7\n",
    "])\n",
    "# indexing starts at 0, so subtract 1\n",
    "IP_table -= 1"
   ]
  },
  {
   "cell_type": "code",
   "execution_count": null,
   "metadata": {},
   "outputs": [],
   "source": [
    "def IP(x): # x=(64,)\n",
    "    return permutation(x,IP_table)"
   ]
  },
  {
   "cell_type": "markdown",
   "metadata": {},
   "source": [
    "# Final Permutation FP"
   ]
  },
  {
   "cell_type": "markdown",
   "metadata": {},
   "source": [
    "* $FP$ is inverse of $IP$\n",
    "<img src=\"img/FP.png\" alt=\"Drawing\" style=\"width: 400px\"/>"
   ]
  },
  {
   "cell_type": "code",
   "execution_count": null,
   "metadata": {},
   "outputs": [],
   "source": [
    "FP_table = np.array([\n",
    "    40, 8, 48, 16, 56, 24, 64, 32,\n",
    "    39, 7, 47, 15, 55, 23, 63, 31,\n",
    "    38, 6, 46, 14, 54, 22, 62, 30,\n",
    "    37, 5, 45, 13, 53, 21, 61, 29,\n",
    "    36, 4, 44, 12, 52, 20, 60, 28,\n",
    "    35, 3, 43, 11, 51, 19, 59, 27,\n",
    "    34, 2, 42, 10, 50, 18, 58, 26,\n",
    "    33, 1, 41,  9, 49, 17, 57, 25\n",
    "])\n",
    "# indexing starts at 0, so subtract 1\n",
    "FP_table -= 1"
   ]
  },
  {
   "cell_type": "code",
   "execution_count": null,
   "metadata": {},
   "outputs": [],
   "source": [
    "def FP(x): # x=(64,)\n",
    "    return permutation(x,FP_table)"
   ]
  },
  {
   "cell_type": "markdown",
   "metadata": {},
   "source": [
    "# DES Round"
   ]
  },
  {
   "cell_type": "markdown",
   "metadata": {},
   "source": [
    "* DES structure is a Feistel network\n",
    "* $x$ is split up into 32-bit halves $L_i$ and $R_i$\n",
    "* Each round can be expressed as: $$ L_i = R_{i-1} $$ $$ R_i = L_{i-1} \\oplus f(R_{i-1},k_i) $$\n",
    "<img src=\"img/round.png\" alt=\"Drawing\" style=\"width: 400px\"/>"
   ]
  },
  {
   "cell_type": "code",
   "execution_count": null,
   "metadata": {},
   "outputs": [],
   "source": [
    "def Round(L,R,k,f=f):\n",
    "    return R, xor(L,f(R,k))"
   ]
  },
  {
   "cell_type": "markdown",
   "metadata": {},
   "source": [
    "# The f-Function"
   ]
  },
  {
   "cell_type": "markdown",
   "metadata": {},
   "source": [
    "* After round 5 every bit is a function of each key bit and each plaintext\n",
    "* $k_i$ is derived from Key Schedule\n",
    "<img src=\"img/f_function.png\" alt=\"Drawing\" style=\"width: 340px\"/>"
   ]
  },
  {
   "cell_type": "code",
   "execution_count": null,
   "metadata": {},
   "outputs": [],
   "source": [
    "def f(R,k):\n",
    "    y = E(R)\n",
    "    y = xor(y,k)\n",
    "    # split up into 8 arrays of size 6\n",
    "    y = np.split(y,8)\n",
    "    for i in range(8):\n",
    "        y[i] = S(y[i],i)\n",
    "    # join all arrays into single array of size 32\n",
    "    y = np.concatenate(y)\n",
    "    # permute\n",
    "    return P(y)"
   ]
  },
  {
   "cell_type": "markdown",
   "metadata": {},
   "source": [
    "## Expansion E"
   ]
  },
  {
   "cell_type": "markdown",
   "metadata": {},
   "source": [
    "* Increases diffusion\n",
    "<img src=\"img/expansion.png\" alt=\"Drawing\" style=\"width: 400px\"/>"
   ]
  },
  {
   "cell_type": "code",
   "execution_count": null,
   "metadata": {},
   "outputs": [],
   "source": [
    "E_table = np.array([\n",
    "    32,  1,  2,  3,  4,  5,\n",
    "     4,  5,  6,  7,  8,  9,\n",
    "     8,  9, 10, 11, 12, 13,\n",
    "    12, 13, 14, 15, 16, 17,\n",
    "    16, 17, 18, 19, 20, 21,\n",
    "    20, 21, 22, 23, 24, 25,\n",
    "    24, 25, 26, 27, 28, 29,\n",
    "    28, 29, 30, 31, 32,  1\n",
    "])\n",
    "# indexing starts at 0, so subtract 1\n",
    "E_table -= 1"
   ]
  },
  {
   "cell_type": "code",
   "execution_count": null,
   "metadata": {},
   "outputs": [],
   "source": [
    "def E(x): # x=(32,)\n",
    "    return permutation(x,E_table)"
   ]
  },
  {
   "cell_type": "markdown",
   "metadata": {},
   "source": [
    "## Permutation P"
   ]
  },
  {
   "cell_type": "markdown",
   "metadata": {},
   "source": [
    "* Introduces diffusion"
   ]
  },
  {
   "cell_type": "code",
   "execution_count": null,
   "metadata": {},
   "outputs": [],
   "source": [
    "P_table = np.array([\n",
    "    16,  7, 20, 21, 29, 12, 28, 17,\n",
    "     1, 15, 23, 26,  5, 18, 31, 10,\n",
    "     2,  8, 24, 14, 32, 27,  3,  9,\n",
    "    19, 13, 30,  6, 22, 11,  4, 25\n",
    "])\n",
    "P_table -= 1"
   ]
  },
  {
   "cell_type": "code",
   "execution_count": null,
   "metadata": {},
   "outputs": [],
   "source": [
    "def P(x):\n",
    "    return permutation(x,P_table)"
   ]
  },
  {
   "cell_type": "markdown",
   "metadata": {},
   "source": [
    "## DES S-Boxes"
   ]
  },
  {
   "cell_type": "markdown",
   "metadata": {},
   "source": [
    "* 6 bits input, 4 bits output\n",
    "* Resistant to differential cryptanalysis\n",
    "<img src=\"img/s_box_.png\" alt=\"Drawing\" style=\"width: 450px\"/>"
   ]
  },
  {
   "cell_type": "code",
   "execution_count": null,
   "metadata": {},
   "outputs": [],
   "source": [
    "S_table = np.zeros((8,4,16),dtype=int)\n",
    "# S_table=(number of tables,rows,columns)\n",
    "S_table[0] = np.array([\n",
    "           [14,  4, 13,  1,  2, 15, 11,  8,  3, 10,  6, 12,  5,  9,  0,  7],\n",
    "           [ 0,  15,  7,  4, 14,  2, 13,  1, 10,  6, 12, 11,  9,  5,  3, 8],\n",
    "           [ 4,   1, 14,  8, 13,  6,  2, 11, 15, 12,  9,  7,  3, 10,  5, 0],\n",
    "           [15, 12,  8,  2,  4,  9,  1,  7,  5, 11,  3, 14, 10,  0,  6, 13]\n",
    "])\n",
    "S_table[1] = np.array([\n",
    "           [15,  1,  8, 14,  6, 11,  3,  4,  9,  7,  2, 13, 12,  0,  5, 10],\n",
    "           [ 3, 13,  4,  7, 15,  2,  8, 14, 12,  0,  1, 10,  6,  9, 11,  5],\n",
    "           [ 0, 14,  7, 11, 10,  4, 13,  1,  5,  8, 12,  6,  9,  3,  2, 15],\n",
    "           [13,  8, 10,  1,  3, 15,  4,  2, 11,  6,  7, 12,  0,  5, 14,  9]\n",
    "])\n",
    "S_table[2] = np.array([\n",
    "           [10,  0,  9, 14,  6,  3, 15,  5,  1, 13, 12,  7, 11,  4,  2,  8],\n",
    "           [13,  7,  0,  9,  3,  4,  6, 10,  2,  8,  5, 14, 12, 11, 15,  1],\n",
    "           [13,  6,  4,  9,  8, 15,  3,  0, 11,  1,  2, 12,  5, 10, 14,  7],\n",
    "           [ 1, 10, 13,  0,  6,  9,  8,  7,  4, 15, 14,  3, 11,  5,  2, 12]\n",
    "])\n",
    "S_table[3] = np.array([\n",
    "           [ 7, 13, 14,  3,  0,  6,  9, 10,  1,  2,  8,  5, 11, 12,  4, 15],\n",
    "           [13,  8, 11,  5,  6, 15,  0,  3,  4,  7,  2, 12,  1, 10, 14,  9],\n",
    "           [10,  6,  9,  0, 12, 11,  7, 13, 15,  1,  3, 14,  5,  2,  8,  4],\n",
    "           [ 3, 15,  0,  6, 10,  1, 13,  8,  9,  4,  5, 11, 12,  7,  2, 14]\n",
    "])\n",
    "S_table[4] = np.array([\n",
    "           [ 2, 12,  4,  1,  7, 10, 11,  6,  8,  5,  3, 15, 13,  0, 14,  9],\n",
    "           [14, 11,  2, 12,  4,  7, 13,  1,  5,  0, 15, 10,  3,  9,  8,  6],\n",
    "           [ 4,  2,  1, 11, 10, 13,  7,  8, 15,  9, 12,  5,  6,  3,  0, 14],\n",
    "           [11,  8, 12,  7,  1, 14,  2, 13,  6, 15,  0,  9, 10,  4,  5,  3]\n",
    "])\n",
    "S_table[5] = np.array([\n",
    "           [12,  1, 10, 15,  9,  2,  6,  8,  0, 13,  3,  4, 14,  7,  5, 11],\n",
    "           [10, 15,  4,  2,  7, 12,  9,  5,  6,  1, 13, 14,  0, 11,  3,  8],\n",
    "           [ 9, 14, 15,  5,  2,  8, 12,  3,  7,  0,  4, 10,  1, 13, 11,  6],\n",
    "           [ 4,  3,  2, 12,  9,  5, 15, 10, 11, 14,  1,  7,  6,  0,  8, 13]\n",
    "])\n",
    "S_table[6] = np.array([\n",
    "           [ 4, 11,  2, 14, 15,  0,  8, 13,  3, 12,  9,  7,  5, 10,  6,  1],\n",
    "           [13,  0, 11,  7,  4,  9,  1, 10, 14,  3,  5, 12,  2, 15,  8,  6],\n",
    "           [ 1,  4, 11, 13, 12,  3,  7, 14, 10, 15,  6,  8,  0,  5,  9,  2],\n",
    "           [ 6, 11, 13,  8,  1,  4, 10,  7,  9,  5,  0, 15, 14,  2,  3, 12]\n",
    "])\n",
    "S_table[7] = np.array([\n",
    "           [13,  2,  8,  4,  6, 15, 11,  1, 10,  9,  3, 14,  5,  0, 12,  7],\n",
    "           [ 1, 15, 13,  8, 10,  3,  7,  4, 12,  5,  6, 11,  0, 14,  9,  2],\n",
    "           [ 7, 11,  4,  1,  9, 12, 14,  2,  0,  6, 10, 13, 15,  3,  5,  8],\n",
    "           [ 2,  1, 14,  7,  4, 10,  8, 13, 15, 12,  9,  0,  3,  5,  6, 11]\n",
    "])"
   ]
  },
  {
   "cell_type": "code",
   "execution_count": null,
   "metadata": {},
   "outputs": [],
   "source": [
    "def S(x,i): # x=(6,)\n",
    "    # create bit array of first element and last\n",
    "    row_index_bin = [ bit for i,bit in enumerate(x) if i in [0,5] ]\n",
    "    # create bit array of middle elements\n",
    "    column_index_bin = [ bit for i,bit in enumerate(x) if i in [1,2,3,4] ]\n",
    "    # get decimal value from table\n",
    "    dec_val = S_table[ i, bit_array2decimal(row_index_bin), bit_array2decimal(column_index_bin) ]\n",
    "    # convert to bit array\n",
    "    return decimal2bit_array(dec_val)"
   ]
  },
  {
   "cell_type": "markdown",
   "metadata": {},
   "source": [
    "# Key schedule"
   ]
  },
  {
   "cell_type": "markdown",
   "metadata": {},
   "source": [
    "* Derives 16 pairs of 48 bit keys\n",
    "* $PC-1$ removes parity bits $(8,16,24,32,40,48,56,64)$\n",
    "* In rounds $i=1,2,9,16$: $C$ and $D$ are rotated left by one bit\n",
    "* In all other rounds: $C$ and $D$ are rotated left by two bits\n",
    "* Each $k_i$ is a permutation of $k$\n",
    "* $C_0$ = $C_{16}$ and $D_0$ = $D_{16}$\n",
    "<img src=\"img/key_schedule.png\" alt=\"Drawing\" style=\"width: 600px\"/>"
   ]
  },
  {
   "cell_type": "code",
   "execution_count": null,
   "metadata": {},
   "outputs": [],
   "source": [
    "PC1_table = np.array([\n",
    "    57, 49, 41, 33, 25, 17,  9,\n",
    "     1, 58, 50, 42, 34, 26, 18,\n",
    "    10,  2, 59, 51, 43, 35, 27,\n",
    "    19, 11,  3, 60, 52, 44, 36,\n",
    "    63, 55, 47, 39, 31, 23, 15,\n",
    "     7, 62, 54, 46, 38, 30, 22,\n",
    "    14,  6, 61, 53, 45, 37, 29,\n",
    "    21, 13,  5, 28, 20, 12,  4\n",
    "])\n",
    "PC2_table = np.array([\n",
    "    14, 17, 11, 24,  1,  5,  3, 28,\n",
    "    15,  6, 21, 10, 23, 19, 12,  4,\n",
    "    26,  8, 16,  7, 27, 20, 13,  2,\n",
    "    41, 52, 31, 37, 47, 55, 30, 40,\n",
    "    51, 45, 33, 48, 44, 49, 39, 56,\n",
    "    34, 53, 46, 42, 50, 36, 29, 32\n",
    "])\n",
    "# indexing starts at 0, so subtract 1\n",
    "PC1_table -= 1\n",
    "PC2_table -= 1"
   ]
  },
  {
   "cell_type": "code",
   "execution_count": null,
   "metadata": {},
   "outputs": [],
   "source": [
    "def init_transform(k):\n",
    "    ''' k=(64,) output: 2*(28,) '''\n",
    "    k = permutation(k,PC1_table)\n",
    "    return k[:28],k[28:]"
   ]
  },
  {
   "cell_type": "code",
   "execution_count": null,
   "metadata": {},
   "outputs": [],
   "source": [
    "def transform(C,D,i,shift=left_shift):\n",
    "    ''' C,D=(28,), i=round number, n=how many bits to rotate '''\n",
    "    # n is 1 if round is 1,2,9,16 else n is 2 \n",
    "    n = 1 if i in [0,1,8,15] else 2\n",
    "    # shift C,D by n\n",
    "    C, D = shift(C,n), shift(D,n)\n",
    "    # permute C,D to get key\n",
    "    C_and_D = np.concatenate((C,D))\n",
    "    k = permutation(C_and_D,PC2_table)\n",
    "    return C,D,k"
   ]
  },
  {
   "cell_type": "code",
   "execution_count": null,
   "metadata": {},
   "outputs": [],
   "source": [
    "def derive_keys(Key):\n",
    "    ''' Derives 16 keys of 48 bit length out of Key(64 len) '''\n",
    "    k = np.zeros((16,48),dtype=int)\n",
    "    C,D = init_transform(Key)\n",
    "    for i in range(16):\n",
    "        # i = [0,1,...,15]\n",
    "        C,D,k[i] = transform(C,D,i)\n",
    "    return k"
   ]
  },
  {
   "cell_type": "markdown",
   "metadata": {},
   "source": [
    "# Decryption"
   ]
  },
  {
   "cell_type": "markdown",
   "metadata": {},
   "source": [
    "* Is the same as encryption, but keys are in reverse order"
   ]
  },
  {
   "cell_type": "code",
   "execution_count": null,
   "metadata": {},
   "outputs": [],
   "source": [
    "def decrypt(y,key):\n",
    "    # initial permutation\n",
    "    y = IP(y)\n",
    "    # 16 rounds of encryption\n",
    "    k = derive_keys(key)\n",
    "    L,R = np.split(y,2)\n",
    "    for i in range(16)[::-1]:\n",
    "    # i = [15,14,...,0]\n",
    "         L,R = Round(L,R,k[i])\n",
    "    y = np.concatenate((R,L))\n",
    "    # final permutation\n",
    "    x = FP(y)\n",
    "    return x"
   ]
  },
  {
   "cell_type": "markdown",
   "metadata": {},
   "source": [
    "# Building blocks"
   ]
  },
  {
   "cell_type": "code",
   "execution_count": null,
   "metadata": {},
   "outputs": [],
   "source": [
    "def xor(A,B):\n",
    "    ''' input: bit array A and B, output: A xor B  '''\n",
    "    return 1*np.logical_xor(A,B)"
   ]
  },
  {
   "cell_type": "code",
   "execution_count": null,
   "metadata": {},
   "outputs": [],
   "source": [
    "def left_shift(arr,n):\n",
    "    ''' performs circular left shift '''\n",
    "    return np.roll(arr,-n)"
   ]
  },
  {
   "cell_type": "code",
   "execution_count": null,
   "metadata": {},
   "outputs": [],
   "source": [
    "def right_shift(arr,n):\n",
    "    ''' performs circular right shift '''\n",
    "    return np.roll(arr,n)"
   ]
  },
  {
   "cell_type": "code",
   "execution_count": null,
   "metadata": {},
   "outputs": [],
   "source": [
    "def permutation(x,table):\n",
    "    ''' permute x -> y, where len(y)=len(table) '''\n",
    "    y = np.zeros(len(table),dtype=int)\n",
    "    for output_index, input_index in enumerate(table):\n",
    "        y[output_index] = x[input_index]\n",
    "    return y"
   ]
  },
  {
   "cell_type": "code",
   "execution_count": null,
   "metadata": {},
   "outputs": [],
   "source": [
    "def bit_array2decimal(bit_arr):\n",
    "    ''' converts bit array to decimal number '''\n",
    "    # reverse bit array\n",
    "    bit_arr = np.flip(bit_arr,axis=0)\n",
    "    # create array [1,2,4,8,...]\n",
    "    power_arr = 2**(np.arange( len(bit_arr) ))\n",
    "    # apply mask of bit_array to power_arr\n",
    "    y = power_arr * bit_arr\n",
    "    return y.sum()"
   ]
  },
  {
   "cell_type": "code",
   "execution_count": null,
   "metadata": {},
   "outputs": [],
   "source": [
    "def decimal2bit_array(decimal,width=4):\n",
    "    ''' converts decimal(0-15) to 4 (width) bits '''\n",
    "    # convert to binary string\n",
    "    bin_str = np.binary_repr(decimal, width=width)\n",
    "    # convert string to bit array\n",
    "    return np.array([ int(bit) for bit in bin_str ],dtype=int)"
   ]
  },
  {
   "cell_type": "markdown",
   "metadata": {},
   "source": [
    "# File reading"
   ]
  },
  {
   "cell_type": "code",
   "execution_count": null,
   "metadata": {},
   "outputs": [],
   "source": [
    "def read_file(file_name):\n",
    "    file_in_bytes = np.fromfile(file_name, dtype = \"uint8\")\n",
    "    file_in_bits = np.unpackbits(file_in_bytes)\n",
    "    return file_in_bits"
   ]
  },
  {
   "cell_type": "code",
   "execution_count": null,
   "metadata": {},
   "outputs": [],
   "source": [
    "def write_file(file_name,file_in_bits):\n",
    "    file_in_bytes = np.packbits(file_in_bits)\n",
    "    file_in_bytes.tofile(file_name)\n",
    "#     equivalent to\n",
    "#     with open(file_name,'w') as f:\n",
    "#         f.write(file_in_bytes.tobytes())"
   ]
  },
  {
   "cell_type": "markdown",
   "metadata": {},
   "source": [
    "# PKCS5 Padding"
   ]
  },
  {
   "cell_type": "markdown",
   "metadata": {},
   "source": [
    "* The last bytes are padded so the file could be split into even blocks of 64 bits\n",
    "* PKCS5 padding: If the block length is $B$ then add $N$ padding bytes of value $N$ to make the input length up to the next exact multiple of $B$.\n",
    "* Examples: <br>\n",
    "  3 bytes: $FDFDFD.................. \\longrightarrow FDFDFD0505050505$ <br>\n",
    "  7 bytes: $FDFDFDFDFDFDFD....   \\longrightarrow FDFDFDFDFDFDFD01$ <br>\n",
    "  8 bytes: $FDFDFDFDFDFDFDFD \\longrightarrow FDFDFDFDFDFDFDFD0808080808080808$ <br>"
   ]
  },
  {
   "cell_type": "code",
   "execution_count": null,
   "metadata": {},
   "outputs": [],
   "source": [
    "def pad_file(file_in_bits):\n",
    "    # count left unused bits (64 - size of block (B))\n",
    "    n = file_in_bits.size%64\n",
    "    # count left bytes (8 bytes in 1 block). 8 bits in 1 byte.\n",
    "    N = int( 8 - np.ceil(n/8) )\n",
    "    # add N times N number (in byte form) to file\n",
    "    for i in range(N):\n",
    "        byte_in_bits = decimal2bit_array(N,width=8)\n",
    "        file_in_bits = np.append( file_in_bits, byte_in_bits, axis=0 )\n",
    "    return file_in_bits"
   ]
  },
  {
   "cell_type": "code",
   "execution_count": null,
   "metadata": {},
   "outputs": [],
   "source": [
    "def unpad_file(file_in_bits):\n",
    "    # read last byte\n",
    "    last_byte_in_bits = file_in_bits[-8:]\n",
    "    # convert to decimal\n",
    "    l = bit_array2decimal(last_byte_in_bits)\n",
    "    # remove padded bits\n",
    "    n = file_in_bits.size\n",
    "    return np.resize(file_in_bits,n-(l*8))"
   ]
  },
  {
   "cell_type": "markdown",
   "metadata": {},
   "source": [
    "# File Encryption and Decryption in ECB mode"
   ]
  },
  {
   "cell_type": "markdown",
   "metadata": {},
   "source": [
    "* Each block is encrypted separately"
   ]
  },
  {
   "cell_type": "code",
   "execution_count": null,
   "metadata": {},
   "outputs": [],
   "source": [
    "def encrypt_file(file_in_bits,key):\n",
    "    # split into blocks of 64\n",
    "    no_blocks = int(file_in_bits.size/64)\n",
    "    blocks = file_in_bits.reshape((no_blocks,64))\n",
    "    # encrypt all blocks\n",
    "    encrypted_file = []\n",
    "    for i in range(no_blocks):\n",
    "        x = blocks[i]\n",
    "        y = encrypt(x,key)\n",
    "        encrypted_file.extend(y)\n",
    "        print('Encrypting blocks: {}/{} '.format(i, no_blocks), end='\\r')\n",
    "    print('')\n",
    "    return np.array(encrypted_file)"
   ]
  },
  {
   "cell_type": "code",
   "execution_count": null,
   "metadata": {},
   "outputs": [],
   "source": [
    "def decrypt_file(file_in_bits,key):\n",
    "    # split into blocks of 64\n",
    "    no_blocks = int(file_in_bits.size/64)\n",
    "    blocks = file_in_bits.reshape((no_blocks,64))\n",
    "    # decrypt file\n",
    "    decrypted_file = []\n",
    "    for i in range(no_blocks):\n",
    "        y = blocks[i]\n",
    "        x = decrypt(y,key)\n",
    "        decrypted_file.extend(x)\n",
    "        print('Decrypting blocks: {}/{} '.format(i, no_blocks), end='\\r')\n",
    "    print('')\n",
    "    return np.array(decrypted_file)"
   ]
  },
  {
   "cell_type": "markdown",
   "metadata": {},
   "source": [
    "# DES and 3DES"
   ]
  },
  {
   "cell_type": "markdown",
   "metadata": {},
   "source": [
    "* 3DES is DES encryption 3 times: $$ y = e_{k3}( e_{k2}( e_{k1}(x) ) ) $$ $$ x = d_{k1}( d_{k2}( d_{k3}(y) ) ) $$"
   ]
  },
  {
   "cell_type": "code",
   "execution_count": null,
   "metadata": {},
   "outputs": [],
   "source": [
    "def des_enc(input_name,output_name,key):\n",
    "    # read file\n",
    "    file_in_bits = read_file(input_name)\n",
    "    # pad file\n",
    "    file_in_bits = pad_file(file_in_bits)\n",
    "    # encrypt\n",
    "    encrypted_file = encrypt_file(file_in_bits,key)\n",
    "    # save file\n",
    "    write_file(output_name,encrypted_file)\n",
    "    \n",
    "def des_dec(input_name,output_name,key):\n",
    "    # read file\n",
    "    file_in_bits = read_file(input_name)\n",
    "    # decrypt\n",
    "    decrypted_file = decrypt_file(file_in_bits,key)\n",
    "    # unpad file\n",
    "    decrypted_file = unpad_file(decrypted_file)\n",
    "    # save file\n",
    "    write_file(output_name,decrypted_file)"
   ]
  },
  {
   "cell_type": "code",
   "execution_count": null,
   "metadata": {},
   "outputs": [],
   "source": [
    "def tri_des_enc(input_name,output_name,key):\n",
    "    # split key into 3 keys\n",
    "    key = key.reshape((3,64))\n",
    "    # read file\n",
    "    file_in_bits = read_file(input_name)\n",
    "    # pad file\n",
    "    file_in_bits = pad_file(file_in_bits)\n",
    "    # encrypt\n",
    "    encrypted_file = file_in_bits\n",
    "    for i in range(3):\n",
    "        encrypted_file = encrypt_file(encrypted_file,key[i])\n",
    "    # save file\n",
    "    write_file(output_name,encrypted_file)\n",
    "\n",
    "def tri_des_dec(input_name,output_name,key):\n",
    "    # split key into 3 keys\n",
    "    key = key.reshape((3,64))\n",
    "    # read file\n",
    "    file_in_bits = read_file(input_name)\n",
    "    # decrypt\n",
    "    decrypted_file = file_in_bits\n",
    "    for i in range(3)[::-1]:\n",
    "        decrypted_file = decrypt_file(decrypted_file,key[i])\n",
    "    # unpad file\n",
    "    decrypted_file = unpad_file(decrypted_file)\n",
    "    # save file\n",
    "    write_file(output_name,decrypted_file)"
   ]
  },
  {
   "cell_type": "markdown",
   "metadata": {},
   "source": [
    "# Testing"
   ]
  },
  {
   "cell_type": "code",
   "execution_count": null,
   "metadata": {},
   "outputs": [],
   "source": [
    "key = np.random.randint(2, size=64)\n",
    "des_enc('test.png','test.des',key)\n",
    "des_dec('test.des','test2.png',key)\n",
    "\n",
    "f1 = read_file('test.png')\n",
    "f2 = read_file('test2.png')\n",
    "np.array_equal(f1,f2)"
   ]
  },
  {
   "cell_type": "code",
   "execution_count": null,
   "metadata": {},
   "outputs": [],
   "source": [
    "key = np.random.randint(2, size=192)\n",
    "tri_des_enc('test.png','test.3des',key)\n",
    "tri_des_dec('test.3des','test3.png',key)\n",
    "\n",
    "f1 = read_file('test.png')\n",
    "f2 = read_file('test3.png')\n",
    "np.array_equal(f1,f2)"
   ]
  }
 ],
 "metadata": {
  "kernelspec": {
   "display_name": "root",
   "language": "python",
   "name": "root"
  },
  "language_info": {
   "codemirror_mode": {
    "name": "ipython",
    "version": 3
   },
   "file_extension": ".py",
   "mimetype": "text/x-python",
   "name": "python",
   "nbconvert_exporter": "python",
   "pygments_lexer": "ipython3",
   "version": "3.6.4"
  }
 },
 "nbformat": 4,
 "nbformat_minor": 2
}
